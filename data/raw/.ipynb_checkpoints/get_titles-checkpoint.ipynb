{
 "cells": [
  {
   "cell_type": "code",
   "execution_count": 3,
   "id": "3ab977a2-52d3-4b54-9dc0-1b2e021d0de6",
   "metadata": {},
   "outputs": [
    {
     "name": "stdout",
     "output_type": "stream",
     "text": [
      "✅ Saved cleaned titles to 'just_titles.csv'\n"
     ]
    }
   ],
   "source": [
    "import pandas as pd\n",
    "\n",
    "# Load dataset\n",
    "df = pd.read_csv(\"oricon_all_charts_sorted.csv\")\n",
    "\n",
    "# Remove '#' and numbers from TITLE column\n",
    "df[\"TITLE\"] = df[\"TITLE\"].str.replace(r'\\s#\\d+', '', regex=True)\n",
    "\n",
    "# Remove hyphens (\"-\") from the TITLE column\n",
    "df[\"TITLE\"] = df[\"TITLE\"].str.replace(\"-\", \" \", regex=True)  # Replace hyphens with spaces\n",
    "\n",
    "# Remove extra spaces\n",
    "df[\"TITLE\"] = df[\"TITLE\"].str.replace(r'\\s+', ' ', regex=True).str.strip()\n",
    "\n",
    "# Remove punctuation (except for essential ones)\n",
    "df[\"TITLE\"] = df[\"TITLE\"].str.replace(r\"[^\\w\\s]\", \"\", regex=True)\n",
    "\n",
    "# Extract unique titles and reset index\n",
    "unique_titles = df[[\"TITLE\"]].drop_duplicates().reset_index(drop=True)\n",
    "\n",
    "# Save to CSV\n",
    "unique_titles.to_csv(\"just_titles_cleaned.csv\", index=False)\n",
    "\n",
    "print(\"✅ Saved cleaned titles to 'just_titles_cleaned.csv'\")"
   ]
  }
 ],
 "metadata": {
  "kernelspec": {
   "display_name": "Python [conda env:base] *",
   "language": "python",
   "name": "conda-base-py"
  },
  "language_info": {
   "codemirror_mode": {
    "name": "ipython",
    "version": 3
   },
   "file_extension": ".py",
   "mimetype": "text/x-python",
   "name": "python",
   "nbconvert_exporter": "python",
   "pygments_lexer": "ipython3",
   "version": "3.12.7"
  }
 },
 "nbformat": 4,
 "nbformat_minor": 5
}

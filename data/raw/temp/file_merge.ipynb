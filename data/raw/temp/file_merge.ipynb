{
 "cells": [
  {
   "cell_type": "code",
   "execution_count": 3,
   "id": "a4cda8d1-9f14-4d64-96a6-13d0574f25f8",
   "metadata": {},
   "outputs": [
    {
     "name": "stdout",
     "output_type": "stream",
     "text": [
      "Merged and sorted CSV saved as oricon_all_charts_sorted.csv\n"
     ]
    }
   ],
   "source": [
    "import pandas as pd\n",
    "import glob\n",
    "\n",
    "# Load cleaned_oricon_urls.csv and drop the 'url' column\n",
    "df_urls = pd.read_csv(\"cleaned_oricon_urls.csv\").drop(columns=[\"url\"])\n",
    "\n",
    "# Get all CSV files matching the naming pattern\n",
    "csv_files = glob.glob(\"oricon_charts/oricon_charts_*.csv\")\n",
    "\n",
    "# List to store dataframes\n",
    "df_list = []\n",
    "\n",
    "# Iterate through each file and merge with df_urls\n",
    "for file in csv_files:\n",
    "    # Extract year and month from filename\n",
    "    filename = file.split(\"/\")[-1]  # Get the file name only\n",
    "    parts = filename.replace(\"oricon_charts_\", \"\").replace(\".csv\", \"\").split(\"_\")\n",
    "    year, month = int(parts[0]), int(parts[1])  # Convert to integers for sorting\n",
    "\n",
    "    # Read the ranking CSV\n",
    "    df_chart = pd.read_csv(file)\n",
    "\n",
    "    # Ensure correct column names\n",
    "    df_chart.columns = [col.strip() for col in df_chart.columns]\n",
    "\n",
    "    # Keep only relevant columns\n",
    "    if \"Date Range\" in df_chart.columns and \"TITLE\" in df_chart.columns and \"WEEKLY\" in df_chart.columns and \"TOTAL\" in df_chart.columns:\n",
    "        df_chart = df_chart[[\"Date Range\", \"TITLE\", \"WEEKLY\", \"TOTAL\"]]\n",
    "    else:\n",
    "        print(f\"Skipping {file} due to missing columns.\")\n",
    "        continue\n",
    "\n",
    "    # Add Year and Month columns\n",
    "    df_chart.insert(0, \"Year\", year)\n",
    "    df_chart.insert(1, \"Month\", month)\n",
    "\n",
    "    # Append to list\n",
    "    df_list.append(df_chart)\n",
    "\n",
    "# Concatenate all dataframes into a single DataFrame\n",
    "final_df = pd.concat(df_list, ignore_index=True)\n",
    "\n",
    "# Sort by Year and Month\n",
    "final_df = final_df.sort_values(by=[\"Year\", \"Month\"]).reset_index(drop=True)\n",
    "\n",
    "# Save to a new CSV file\n",
    "final_df.to_csv(\"oricon_all_charts_sorted.csv\", index=False)\n",
    "\n",
    "print(\"Merged and sorted CSV saved as oricon_all_charts_sorted.csv\")"
   ]
  }
 ],
 "metadata": {
  "kernelspec": {
   "display_name": "Python [conda env:base] *",
   "language": "python",
   "name": "conda-base-py"
  },
  "language_info": {
   "codemirror_mode": {
    "name": "ipython",
    "version": 3
   },
   "file_extension": ".py",
   "mimetype": "text/x-python",
   "name": "python",
   "nbconvert_exporter": "python",
   "pygments_lexer": "ipython3",
   "version": "3.12.7"
  }
 },
 "nbformat": 4,
 "nbformat_minor": 5
}
